{
 "cells": [
  {
   "cell_type": "code",
   "execution_count": 1,
   "id": "b48bc39c",
   "metadata": {},
   "outputs": [
    {
     "name": "stdout",
     "output_type": "stream",
     "text": [
      "       0        1         2         3         4         5         6     \\\n",
      "0  2.227386  9.61436  3.858638  2.265447  2.168993  2.743786  7.435449   \n",
      "\n",
      "        7         8         9     ...      9990      9991      9992      9993  \\\n",
      "0  11.138449 -0.123204  2.220205  ...  9.508221  9.836647  4.943785  3.399333   \n",
      "\n",
      "       9994      9995      9996      9997       9998     9999  \n",
      "0  4.485518  6.647458  5.995327  7.753622  10.614776  3.31716  \n",
      "\n",
      "[1 rows x 10000 columns]\n",
      "<class 'pandas.core.frame.DataFrame'>\n",
      "RangeIndex: 1 entries, 0 to 0\n",
      "Columns: 10000 entries, 0 to 9999\n",
      "dtypes: float64(10000)\n",
      "memory usage: 78.3 KB\n"
     ]
    }
   ],
   "source": [
    "import numpy as np\n",
    "import pandas as pd\n",
    "data = np.load('clean_data.npy', allow_pickle=True)\n",
    "\n",
    "df = pd.DataFrame(data)\n",
    "df.head()\n",
    "print(df)\n",
    "df.info()\n"
   ]
  },
  {
   "cell_type": "code",
   "execution_count": null,
   "id": "a6f400f3",
   "metadata": {},
   "outputs": [],
   "source": [
    "%matplotlib inline\n",
    "import matplotlib.pyplot as plt\n",
    "\n",
    "df.hist(bins=5,figsize=(20,15))\n",
    "plt.show()"
   ]
  },
  {
   "cell_type": "code",
   "execution_count": null,
   "id": "a059dbd1",
   "metadata": {},
   "outputs": [],
   "source": [
    "import numpy as np\n",
    "import pandas as pd\n",
    "import matplotlib.pyplot as plt\n",
    "\n",
    "# Load the data\n",
    "data = np.load('clean_data.npy')\n",
    "\n",
    "# Assuming data is a 2D array with shape (1, 10000)\n",
    "data_row = data[0]\n",
    "\n",
    "# Create a DataFrame\n",
    "df = pd.DataFrame(data_row)\n",
    "\n",
    "# Specify the output Excel file\n",
    "excel_file_path = 'output_data.xlsx'\n",
    "\n",
    "# Write to Excel\n",
    "df.to_excel(excel_file_path, index=False, header=False)\n",
    "df.head()\n",
    "df.hist()"
   ]
  },
  {
   "cell_type": "code",
   "execution_count": null,
   "id": "4639c167",
   "metadata": {},
   "outputs": [],
   "source": []
  },
  {
   "cell_type": "code",
   "execution_count": null,
   "id": "8b10ab18",
   "metadata": {},
   "outputs": [],
   "source": []
  }
 ],
 "metadata": {
  "kernelspec": {
   "display_name": "Python 3 (ipykernel)",
   "language": "python",
   "name": "python3"
  },
  "language_info": {
   "codemirror_mode": {
    "name": "ipython",
    "version": 3
   },
   "file_extension": ".py",
   "mimetype": "text/x-python",
   "name": "python",
   "nbconvert_exporter": "python",
   "pygments_lexer": "ipython3",
   "version": "3.11.3"
  }
 },
 "nbformat": 4,
 "nbformat_minor": 5
}
